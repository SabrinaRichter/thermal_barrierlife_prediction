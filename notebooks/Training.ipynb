{
 "cells": [
  {
   "cell_type": "code",
   "execution_count": 1,
   "id": "adc3e26a",
   "metadata": {},
   "outputs": [],
   "source": [
    "%load_ext autoreload\n",
    "%autoreload 2"
   ]
  },
  {
   "cell_type": "code",
   "execution_count": 2,
   "id": "95658bc3",
   "metadata": {},
   "outputs": [],
   "source": [
    "import numpy as np"
   ]
  },
  {
   "cell_type": "code",
   "execution_count": 3,
   "id": "b57c5195",
   "metadata": {},
   "outputs": [],
   "source": [
    "import thermal_barrierlife_prediction as tbp"
   ]
  },
  {
   "cell_type": "code",
   "execution_count": 4,
   "id": "6b206c88",
   "metadata": {},
   "outputs": [],
   "source": [
    "estim = tbp.EstimatorCNN()\n",
    "estim.prepare_data()"
   ]
  },
  {
   "cell_type": "code",
   "execution_count": 5,
   "id": "42dcbba8",
   "metadata": {},
   "outputs": [],
   "source": [
    "estim.init_model()\n"
   ]
  },
  {
   "cell_type": "code",
   "execution_count": null,
   "id": "a58c91af",
   "metadata": {},
   "outputs": [
    {
     "name": "stdout",
     "output_type": "stream",
     "text": [
      "Train on 197 samples, validate on 27 samples\n"
     ]
    }
   ],
   "source": [
    "estim.train(val_samples=['M-19-274', 'M-19-280'])"
   ]
  },
  {
   "cell_type": "code",
   "execution_count": null,
   "id": "ed099141",
   "metadata": {},
   "outputs": [],
   "source": []
  },
  {
   "cell_type": "code",
   "execution_count": null,
   "id": "00d8446d",
   "metadata": {},
   "outputs": [],
   "source": []
  }
 ],
 "metadata": {
  "kernelspec": {
   "display_name": "Python [conda env:clinspect]",
   "language": "python",
   "name": "conda-env-clinspect-py"
  },
  "language_info": {
   "codemirror_mode": {
    "name": "ipython",
    "version": 3
   },
   "file_extension": ".py",
   "mimetype": "text/x-python",
   "name": "python",
   "nbconvert_exporter": "python",
   "pygments_lexer": "ipython3",
   "version": "3.7.9"
  }
 },
 "nbformat": 4,
 "nbformat_minor": 5
}

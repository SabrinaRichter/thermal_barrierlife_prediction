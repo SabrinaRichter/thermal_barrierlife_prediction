{
 "cells": [
  {
   "cell_type": "code",
   "execution_count": 19,
   "metadata": {},
   "outputs": [],
   "source": [
    "from PIL import Image\n",
    "import numpy as np\n",
    "import pandas as pd\n",
    "import xarray as xr\n",
    "import platform\n",
    "from pathlib import Path\n",
    "import tensorflow as tf\n",
    "import math\n",
    "from tensorflow import keras,math\n",
    "from tensorflow.keras import layers\n",
    "from tensorflow.keras.models import Sequential\n",
    "import matplotlib.pyplot as plt\n",
    "\n",
    "    \n",
    "def read_data(csv_file_path='./thermal_barrierlife_prediction/data/train-orig.csv', tiff_folder_path='./thermal_barrierlife_prediction//data/train/'):\n",
    "    df_meta = pd.read_csv(csv_file_path)\n",
    "    im_list = []\n",
    "    for i,imid in enumerate(df_meta.Image_ID):\n",
    "        im = Image.open(tiff_folder_path+str(imid)+'.tif')\n",
    "        if np.array(im).shape[1]>1024:\n",
    "            im_list.append(np.array(im))\n",
    "        if np.array(im).shape[1]<=1024:\n",
    "            im = im.resize((2048,2048))\n",
    "            im_list.append(np.array(im))\n",
    "\n",
    "    ds = xr.Dataset({'greyscale':xr.DataArray(np.array(im_list))})\n",
    "    ds = ds.rename({'dim_0':'image_id', 'dim_1':'x', 'dim_2':'y'})\n",
    "    ds['sample'] = 'image_id', df_meta.Sample\n",
    "    ds['lifetime'] = 'image_id', df_meta.Lifetime\n",
    "    ds['magnification'] = 'image_id', df_meta.Magnification\n",
    "    ds['uncertainty'] = 'image_id', df_meta.Uncertainty\n",
    "    ds['image_id'] = 'image_id', df_meta.Image_ID\n",
    "    return ds\n",
    "\n"
   ]
  },
  {
   "cell_type": "code",
   "execution_count": 3,
   "metadata": {},
   "outputs": [],
   "source": [
    "data_frame = read_data()\n",
    "X = data_frame['greyscale']\n",
    "Y = data_frame['lifetime']\n",
    "\n",
    "image = np.expand_dims(X[15,:,:],-1)"
   ]
  },
  {
   "cell_type": "code",
   "execution_count": 4,
   "metadata": {},
   "outputs": [],
   "source": [
    "#Functions to display the images used in this experiment\n",
    "def show_image_batch(images: list):\n",
    "    \"\"\"\n",
    "    Displays a batch of image present in images\n",
    "    \"\"\"\n",
    "    fig = plt.figure(figsize=(50,50))\n",
    "    for idx in range(10):\n",
    "        ax = plt.subplot(5, 2, idx+1)\n",
    "        plt.imshow(images[idx])\n",
    "        plt.axis(\"off\")\n",
    "\n",
    "def show_dataset(dataset):\n",
    "    batch = next(iter(dataset))\n",
    "    images, labels = batch\n",
    "    \n",
    "    plt.figure(figsize=(10, 10))\n",
    "    for idx in range(9):\n",
    "        ax = plt.subplot(3, 3, idx + 1)\n",
    "        plt.imshow(images[idx].numpy().astype(\"uint8\"))\n",
    "        plt.title(\"Class: {}\".format(class_names[labels[idx].numpy()]))\n",
    "        plt.axis(\"off\")"
   ]
  },
  {
   "cell_type": "markdown",
   "metadata": {},
   "source": [
    "      \"\"\"Preprocess each coordinate — scaled from [0, 1) — by converting each\n",
    "      coordinate to a random fourier feature, as determined by a matrix with values\n",
    "      samples from a Gaussian distribution.\n",
    "      \"\"\""
   ]
  },
  {
   "cell_type": "code",
   "execution_count": 22,
   "metadata": {},
   "outputs": [],
   "source": [
    "import tensorflow as tf\n",
    "import numpy as np\n",
    "\n",
    "\n",
    "# ============================== FOURIER MAPPING ===============================\n",
    "def initialize_fourier_mapping_vector(m, sigma):\n",
    "    d = 2\n",
    "    B = tf.random.normal((m, d)) * sigma\n",
    "    return B\n",
    "    \n",
    "def fourier_mapping(coords, B):\n",
    "    sin_features = tf.math.sin((2 * np.pi) * (tf.matmul(coords, B, transpose_b=True)))\n",
    "    cos_features = tf.math.cos((2 * np.pi) * (tf.matmul(coords, B, transpose_b=True)))\n",
    "    features = tf.concat([sin_features, cos_features], axis=-1)\n",
    "    return features\n"
   ]
  },
  {
   "cell_type": "markdown",
   "metadata": {},
   "source": [
    "The folloiwng function: Generally used as the input to a CPPN, but can also augment each layer of a ConvNet with location hints\n",
    "  \"\"\"Return a 2x2 matrix where the values at each location are equal to the\n",
    "  indices of that location\n",
    "  \"\"\""
   ]
  },
  {
   "cell_type": "code",
   "execution_count": 10,
   "metadata": {},
   "outputs": [],
   "source": [
    "# ============================== DATA ==========================================\n",
    "def get_coord_ints(y_dim, x_dim):\n",
    "    ys = tf.range(y_dim)[tf.newaxis]\n",
    "    xs = tf.range(x_dim)[:, tf.newaxis]\n",
    "    coord_ints = tf.stack([ys+xs-ys, xs+ys-xs], axis=2)\n",
    "    return coord_ints\n",
    "\n",
    "def generate_scaled_coordinate_hints(batch_size, img_dim=2048):\n",
    "    spatial_scale = 1. / img_dim\n",
    "    coord_ints = get_coord_ints(img_dim, img_dim)\n",
    "    coords = tf.cast(coord_ints, tf.float32)\n",
    "    coords = tf.stack([coords[:, :, 0] * spatial_scale,\n",
    "                     coords[:, :, 1] * spatial_scale], axis=-1)\n",
    "    coords = tf.tile(coords[tf.newaxis], [batch_size, 1, 1, 1])\n",
    "    return coords\n",
    "\n",
    "    "
   ]
  },
  {
   "cell_type": "code",
   "execution_count": 23,
   "metadata": {},
   "outputs": [],
   "source": [
    "batch_size = 1#x.shape[0]\n",
    "coords = generate_scaled_coordinate_hints(batch_size)\n",
    "mapping_size = 256\n",
    "sigma = 10\n",
    "B = initialize_fourier_mapping_vector(m=mapping_size, sigma=sigma)\n",
    " #if self.use_fourier_features:\n",
    "features = fourier_mapping(coords, B=B)"
   ]
  },
  {
   "cell_type": "code",
   "execution_count": 24,
   "metadata": {},
   "outputs": [
    {
     "data": {
      "text/plain": [
       "TensorShape([1, 2048, 2048, 512])"
      ]
     },
     "execution_count": 24,
     "metadata": {},
     "output_type": "execute_result"
    }
   ],
   "source": [
    "features.shape"
   ]
  }
 ],
 "metadata": {
  "kernelspec": {
   "display_name": "Python 3",
   "language": "python",
   "name": "python3"
  },
  "language_info": {
   "codemirror_mode": {
    "name": "ipython",
    "version": 3
   },
   "file_extension": ".py",
   "mimetype": "text/x-python",
   "name": "python",
   "nbconvert_exporter": "python",
   "pygments_lexer": "ipython3",
   "version": "3.8.8"
  }
 },
 "nbformat": 4,
 "nbformat_minor": 4
}
